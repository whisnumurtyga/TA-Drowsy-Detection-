{
 "cells": [
  {
   "cell_type": "code",
   "execution_count": 1,
   "metadata": {},
   "outputs": [],
   "source": [
    "import os\n",
    "import shutil\n",
    "import random"
   ]
  },
  {
   "cell_type": "code",
   "execution_count": null,
   "metadata": {},
   "outputs": [],
   "source": [
    "def split_data_to_train_test(data_dir, test_ratio=0.1):\n",
    "    \"\"\"\n",
    "    Menyalin 10% dari data setiap kelas ke folder `test`, dan 90% sisanya ke `train`.\n",
    "    \n",
    "    Args:\n",
    "    - data_dir (str): Direktori utama yang berisi folder kelas 'drowsy' dan 'notdrowsy'.\n",
    "    - test_ratio (float): Rasio data yang akan disalin ke folder `test`.\n",
    "    \"\"\"\n",
    "    # Define paths for train and test directories\n",
    "    train_dir = os.path.join(data_dir, 'train')\n",
    "    test_dir = os.path.join(data_dir, 'test')\n",
    "\n",
    "    # Define class folders\n",
    "    classes = ['drowsy', 'notdrowsy']\n",
    "    \n",
    "    # Ensure train and test directories exist\n",
    "    os.makedirs(train_dir, exist_ok=True)\n",
    "    os.makedirs(test_dir, exist_ok=True)\n",
    "    \n",
    "    # Iterate over each class\n",
    "    for class_name in classes:\n",
    "        # Set up source, train, and test paths for each class\n",
    "        source_dir = os.path.join(data_dir, class_name)\n",
    "        train_class_dir = os.path.join(train_dir, class_name)\n",
    "        test_class_dir = os.path.join(test_dir, class_name)\n",
    "        \n",
    "        # Create class folders in train and test directories\n",
    "        os.makedirs(train_class_dir, exist_ok=True)\n",
    "        os.makedirs(test_class_dir, exist_ok=True)\n",
    "        \n",
    "        # Get list of all files in the source class folder\n",
    "        all_files = os.listdir(source_dir)\n",
    "        all_files = [f for f in all_files if os.path.isfile(os.path.join(source_dir, f))]\n",
    "        \n",
    "        # Shuffle and split files\n",
    "        random.shuffle(all_files)\n",
    "        split_idx = int(len(all_files) * test_ratio)\n",
    "        \n",
    "        test_files = all_files[:split_idx]\n",
    "        train_files = all_files[split_idx:]\n",
    "        \n",
    "        # Copy files to test directory\n",
    "        for file_name in test_files:\n",
    "            src_path = os.path.join(source_dir, file_name)\n",
    "            dst_path = os.path.join(test_class_dir, file_name)\n",
    "            shutil.copy(src_path, dst_path)\n",
    "        \n",
    "        # Copy remaining files to train directory\n",
    "        for file_name in train_files:\n",
    "            src_path = os.path.join(source_dir, file_name)\n",
    "            dst_path = os.path.join(train_class_dir, file_name)\n",
    "            shutil.copy(src_path, dst_path)\n",
    "    \n",
    "    # Print class distribution for train and test folders\n",
    "    print(\"\\nDistribusi Kelas:\")\n",
    "    for split in ['train', 'test']:\n",
    "        print(f\"\\n{split.capitalize()} Data:\")\n",
    "        for class_name in classes:\n",
    "            class_dir = os.path.join(data_dir, split, class_name)\n",
    "            file_count = len(os.listdir(class_dir))\n",
    "            print(f\"  {class_name.capitalize()}: {file_count} files\")\n"
   ]
  },
  {
   "cell_type": "code",
   "execution_count": 12,
   "metadata": {},
   "outputs": [
    {
     "name": "stdout",
     "output_type": "stream",
     "text": [
      "\n",
      "Distribusi Kelas:\n",
      "\n",
      "Train Data:\n",
      "  Drowsy: 32427 files\n",
      "  Notdrowsy: 27442 files\n",
      "\n",
      "Test Data:\n",
      "  Drowsy: 3603 files\n",
      "  Notdrowsy: 3049 files\n"
     ]
    }
   ],
   "source": [
    "# Contoh penggunaan\n",
    "split_data_to_train_test(\"../Datasets/NTHU-DDD\")"
   ]
  }
 ],
 "metadata": {
  "kernelspec": {
   "display_name": "bangkitcourse",
   "language": "python",
   "name": "python3"
  },
  "language_info": {
   "codemirror_mode": {
    "name": "ipython",
    "version": 3
   },
   "file_extension": ".py",
   "mimetype": "text/x-python",
   "name": "python",
   "nbconvert_exporter": "python",
   "pygments_lexer": "ipython3",
   "version": "3.9.19"
  }
 },
 "nbformat": 4,
 "nbformat_minor": 2
}
